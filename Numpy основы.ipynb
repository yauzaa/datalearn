{
  "cells": [
    {
      "cell_type": "markdown",
      "metadata": {
        "id": "view-in-github",
        "colab_type": "text"
      },
      "source": [
        "<a href=\"https://colab.research.google.com/github/yauzaa/datalearn/blob/main/Numpy%20%D0%BE%D1%81%D0%BD%D0%BE%D0%B2%D1%8B.ipynb\" target=\"_parent\"><img src=\"https://colab.research.google.com/assets/colab-badge.svg\" alt=\"Open In Colab\"/></a>"
      ]
    },
    {
      "cell_type": "code",
      "source": [
        "import numpy as np"
      ],
      "metadata": {
        "id": "T3gLTBclycBp"
      },
      "execution_count": 2,
      "outputs": []
    },
    {
      "cell_type": "code",
      "source": [
        "x = [2, 4, 5]\n",
        "y = [10, 4, 2]\n",
        "\n",
        "x + y"
      ],
      "metadata": {
        "id": "MSkUEJgByb_5",
        "outputId": "5fd87cc2-6bcf-4787-b90d-253333a23b6d",
        "colab": {
          "base_uri": "https://localhost:8080/"
        }
      },
      "execution_count": 3,
      "outputs": [
        {
          "output_type": "execute_result",
          "data": {
            "text/plain": [
              "[2, 4, 5, 10, 4, 2]"
            ]
          },
          "metadata": {},
          "execution_count": 3
        }
      ]
    },
    {
      "cell_type": "code",
      "source": [
        "x_np = np.array(x)\n",
        "y_np = np.array(y)"
      ],
      "metadata": {
        "id": "_cUh_Xx4yb-G"
      },
      "execution_count": 4,
      "outputs": []
    },
    {
      "cell_type": "code",
      "source": [
        "print(x_np + y_np)\n",
        "print(x_np * 2)\n",
        "print(x_np ** 9)"
      ],
      "metadata": {
        "id": "Pqbsgu9Vyb8A",
        "outputId": "a4bafcd2-b5f7-4591-ed3a-ef37b1309d79",
        "colab": {
          "base_uri": "https://localhost:8080/"
        }
      },
      "execution_count": 5,
      "outputs": [
        {
          "output_type": "stream",
          "name": "stdout",
          "text": [
            "[12  8  7]\n",
            "[ 4  8 10]\n",
            "[    512  262144 1953125]\n"
          ]
        }
      ]
    },
    {
      "cell_type": "code",
      "source": [
        "z = ['cat', 1, 8.2]\n",
        "\n",
        "print(z)\n",
        "z_np = np.array(z) #str most powerfull\n",
        "print(z_np[2])"
      ],
      "metadata": {
        "id": "dcITY1Dryb2L",
        "outputId": "22a4c30d-c4a6-485c-edb1-970ce71c2479",
        "colab": {
          "base_uri": "https://localhost:8080/"
        }
      },
      "execution_count": 6,
      "outputs": [
        {
          "output_type": "stream",
          "name": "stdout",
          "text": [
            "['cat', 1, 8.2]\n",
            "8.2\n"
          ]
        }
      ]
    },
    {
      "cell_type": "code",
      "source": [
        "age = np.array([18, 20, 43, 23, 14, 52, 12])"
      ],
      "metadata": {
        "id": "9m0cgSUXyb0L"
      },
      "execution_count": 20,
      "outputs": []
    },
    {
      "cell_type": "code",
      "source": [
        "age < 18"
      ],
      "metadata": {
        "id": "4YkQFd6AybyX",
        "outputId": "800b126c-98c2-4090-9e88-10d565dd6fb5",
        "colab": {
          "base_uri": "https://localhost:8080/"
        }
      },
      "execution_count": 21,
      "outputs": [
        {
          "output_type": "execute_result",
          "data": {
            "text/plain": [
              "array([False, False, False, False,  True, False,  True])"
            ]
          },
          "metadata": {},
          "execution_count": 21
        }
      ]
    },
    {
      "cell_type": "code",
      "source": [
        "(age < 18) | (age >= 35)"
      ],
      "metadata": {
        "id": "8wpQgDX8ybu0",
        "outputId": "b169d0d1-a3d4-49ad-f3d9-d1ea1a53836c",
        "colab": {
          "base_uri": "https://localhost:8080/"
        }
      },
      "execution_count": 22,
      "outputs": [
        {
          "output_type": "execute_result",
          "data": {
            "text/plain": [
              "array([False, False,  True, False,  True,  True,  True])"
            ]
          },
          "metadata": {},
          "execution_count": 22
        }
      ]
    },
    {
      "cell_type": "code",
      "source": [
        "age[(age < 18) | (age >= 35)]"
      ],
      "metadata": {
        "id": "_RjvbapmhQdP",
        "outputId": "07c521e4-1b57-48b9-d34f-ed0e6e29de0b",
        "colab": {
          "base_uri": "https://localhost:8080/"
        }
      },
      "execution_count": 23,
      "outputs": [
        {
          "output_type": "execute_result",
          "data": {
            "text/plain": [
              "array([43, 14, 52, 12])"
            ]
          },
          "metadata": {},
          "execution_count": 23
        }
      ]
    },
    {
      "cell_type": "code",
      "source": [
        "a = np.array([[2, 5, 6], [8, 10, 4]])\n",
        "a"
      ],
      "metadata": {
        "id": "74Cxdtn_hQa5",
        "outputId": "3f7ce6df-9018-4776-9492-0f9c2aa03b8f",
        "colab": {
          "base_uri": "https://localhost:8080/"
        }
      },
      "execution_count": 30,
      "outputs": [
        {
          "output_type": "execute_result",
          "data": {
            "text/plain": [
              "array([[ 2,  5,  6],\n",
              "       [ 8, 10,  4]])"
            ]
          },
          "metadata": {},
          "execution_count": 30
        }
      ]
    },
    {
      "cell_type": "code",
      "source": [
        "print(a.shape)\n",
        "print(a.ndim) # сколько измерний\n",
        "print(a.size) # сколько значений"
      ],
      "metadata": {
        "id": "v0e0C1bhhQYd",
        "outputId": "64bd4596-5cbf-453e-866c-ea7812fe0302",
        "colab": {
          "base_uri": "https://localhost:8080/"
        }
      },
      "execution_count": 33,
      "outputs": [
        {
          "output_type": "stream",
          "name": "stdout",
          "text": [
            "(2, 3)\n",
            "2\n",
            "6\n"
          ]
        }
      ]
    },
    {
      "cell_type": "code",
      "source": [
        "print(a[1][0])\n",
        "print(a[1,0])\n",
        "print(a[:,0]) # все ряды 0 колонка"
      ],
      "metadata": {
        "id": "nenHl0W6hQVz",
        "outputId": "73ead30d-03ad-4fcd-a1dc-23446a575a5f",
        "colab": {
          "base_uri": "https://localhost:8080/"
        }
      },
      "execution_count": 36,
      "outputs": [
        {
          "output_type": "stream",
          "name": "stdout",
          "text": [
            "8\n",
            "8\n",
            "[2 8]\n"
          ]
        }
      ]
    },
    {
      "cell_type": "code",
      "source": [
        "import time"
      ],
      "metadata": {
        "id": "FC423dlrhQTg"
      },
      "execution_count": 37,
      "outputs": []
    },
    {
      "cell_type": "code",
      "source": [
        "# задаем размер наших списков\n",
        "size = 1000000\n",
        "\n",
        "# объявляем списки\n",
        "list1 = range(size)\n",
        "list2 = range(size)\n",
        "\n",
        "# Запоминаем временную метку\n",
        "initial_time = time.time()\n",
        "\n",
        "# перемножаем элементы списков\n",
        "result_list = [(a * b) for a, b in zip(list1, list2)]\n",
        "list_time = time.time() - initial_time\n",
        "\n",
        "# смотрим, сколько времени это заняло\n",
        "print(\"Время: {} сек\".format(list_time))"
      ],
      "metadata": {
        "id": "chEIWJkhhQRc",
        "outputId": "c587aec8-821d-4991-ff5f-ef73c1b1d787",
        "colab": {
          "base_uri": "https://localhost:8080/"
        }
      },
      "execution_count": 40,
      "outputs": [
        {
          "output_type": "stream",
          "name": "stdout",
          "text": [
            "Время: 0.14600872993469238 сек\n"
          ]
        }
      ]
    },
    {
      "cell_type": "code",
      "source": [
        "# то же самое в numpy\n",
        "\n",
        "array1 = np.arange(size)\n",
        "array2 = np.arange(size)\n",
        "\n",
        "initial_time = time.time()\n",
        "\n",
        "result_array = array1 * array2\n",
        "\n",
        "array_time = time.time() - initial_time\n",
        "\n",
        "print(\"Время: {} сек\".format(array_time))\n",
        "print(f\"Во сколько раз? {round(list_time / array_time)} раз\")"
      ],
      "metadata": {
        "id": "CSMXjWsUjZfQ",
        "outputId": "3b9b2af8-0a8b-4c79-f0f7-08806bd7045f",
        "colab": {
          "base_uri": "https://localhost:8080/"
        }
      },
      "execution_count": 43,
      "outputs": [
        {
          "output_type": "stream",
          "name": "stdout",
          "text": [
            "Время: 0.002497434616088867 сек\n",
            "Во сколько раз? 58 раз\n"
          ]
        }
      ]
    },
    {
      "cell_type": "code",
      "source": [],
      "metadata": {
        "id": "mJd872QqjZcq"
      },
      "execution_count": null,
      "outputs": []
    },
    {
      "cell_type": "code",
      "source": [],
      "metadata": {
        "id": "Xiws7fTEjZaU"
      },
      "execution_count": null,
      "outputs": []
    },
    {
      "cell_type": "code",
      "source": [],
      "metadata": {
        "id": "khzN0krEjZXz"
      },
      "execution_count": null,
      "outputs": []
    }
  ],
  "metadata": {
    "colab": {
      "name": "Добро пожаловать в Colaboratory!",
      "provenance": [],
      "include_colab_link": true
    },
    "kernelspec": {
      "display_name": "Python 3",
      "name": "python3"
    }
  },
  "nbformat": 4,
  "nbformat_minor": 0
}